{
 "cells": [
  {
   "cell_type": "code",
   "execution_count": 1,
   "metadata": {},
   "outputs": [],
   "source": [
    "import numpy as np\n",
    "import slideio\n",
    "import cv2\n",
    "import json\n",
    "import matplotlib.path as mpltPath\n",
    "import os\n",
    "import warnings\n",
    "import tifffile\n",
    "from skimage import exposure\n",
    "from skimage.exposure import match_histograms\n",
    "import xml.etree.ElementTree as ET\n",
    "import pandas as pd\n",
    "from PIL import Image\n",
    "from math import sqrt\n",
    "import matplotlib.pyplot as plt\n",
    "from glob import glob\n",
    "from copy import copy\n",
    "from tqdm.notebook import tqdm\n",
    "import warnings\n",
    "import staintools\n",
    "\n",
    "# 경고 메시지를 무시하도록 설정\n",
    "warnings.filterwarnings(\"ignore\")"
   ]
  },
  {
   "cell_type": "code",
   "execution_count": 13,
   "metadata": {},
   "outputs": [],
   "source": [
    "train_svs_files=glob('../../data/WSI/train/*/*.tiff')\n",
    "validation_svs_files=glob('../../data/WSI/validation/*/*.tiff')\n",
    "train_maske_files = glob('../../data/mask_thumbnail/train/*/*.tiff')\n",
    "validation_maske_files = glob('../../data/mask_thumbnail/validation/*/*.tiff')\n",
    "train_tile_path='../../data/Tile/train/'\n",
    "validation_tile_path='../../data/Tile/validation/'\n",
    "train_csv=pd.read_csv('../../data/2023_dataton_age_sex_train.csv', encoding='cp949')\n",
    "validation_csv=pd.read_csv('../../data/2023_dataton_age_sex_validation.csv', encoding='cp949')"
   ]
  },
  {
   "cell_type": "code",
   "execution_count": 60,
   "metadata": {},
   "outputs": [],
   "source": [
    "def createDirectory(directory):\n",
    "    try:\n",
    "        if not os.path.exists(directory):\n",
    "            os.makedirs(directory)\n",
    "    except OSError:\n",
    "        print(\"Error: Failed to create the directory.\")"
   ]
  },
  {
   "cell_type": "code",
   "execution_count": 79,
   "metadata": {},
   "outputs": [
    {
     "data": {
      "application/vnd.jupyter.widget-view+json": {
       "model_id": "ec17b1e8175b4402a9aaf21089b69f99",
       "version_major": 2,
       "version_minor": 0
      },
      "text/plain": [
       "  0%|          | 0/479 [00:00<?, ?it/s]"
      ]
     },
     "metadata": {},
     "output_type": "display_data"
    },
    {
     "ename": "KeyboardInterrupt",
     "evalue": "",
     "output_type": "error",
     "traceback": [
      "\u001b[0;31m---------------------------------------------------------------------------\u001b[0m",
      "\u001b[0;31mKeyboardInterrupt\u001b[0m                         Traceback (most recent call last)",
      "Cell \u001b[0;32mIn[79], line 30\u001b[0m\n\u001b[1;32m     28\u001b[0m \u001b[39mif\u001b[39;00m tile_mask_image\u001b[39m.\u001b[39mmean()\u001b[39m>\u001b[39m\u001b[39m=\u001b[39m\u001b[39m1\u001b[39m\u001b[39m/\u001b[39m\u001b[39m2\u001b[39m:\n\u001b[1;32m     29\u001b[0m     count\u001b[39m+\u001b[39m\u001b[39m=\u001b[39m\u001b[39m1\u001b[39m\n\u001b[0;32m---> 30\u001b[0m     image \u001b[39m=\u001b[39m scene\u001b[39m.\u001b[39;49mread_block((widthCount \u001b[39m*\u001b[39;49m slide_tile_size, heightCount \u001b[39m*\u001b[39;49m slide_tile_size, slide_tile_size, slide_tile_size),size\u001b[39m=\u001b[39;49m(slide_tile_size,slide_tile_size))\n\u001b[1;32m     31\u001b[0m     img\u001b[39m=\u001b[39mImage\u001b[39m.\u001b[39mfromarray(image) \n\u001b[1;32m     32\u001b[0m     img\u001b[39m.\u001b[39msave(train_tile_path\u001b[39m+\u001b[39mdata_frame\u001b[39m.\u001b[39mloc[\u001b[39m0\u001b[39m][\u001b[39m'\u001b[39m\u001b[39m폴더\u001b[39m\u001b[39m'\u001b[39m]\u001b[39m+\u001b[39m\u001b[39m'\u001b[39m\u001b[39m/\u001b[39m\u001b[39m'\u001b[39m\u001b[39m+\u001b[39mfileName\u001b[39m+\u001b[39m\u001b[39m'\u001b[39m\u001b[39m/\u001b[39m\u001b[39m'\u001b[39m\u001b[39m+\u001b[39mfileName\u001b[39m+\u001b[39m\u001b[39m'\u001b[39m\u001b[39m_\u001b[39m\u001b[39m'\u001b[39m\u001b[39m+\u001b[39m\u001b[39mstr\u001b[39m(count)\u001b[39m+\u001b[39m\u001b[39m'\u001b[39m\u001b[39m.jpg\u001b[39m\u001b[39m'\u001b[39m)\n",
      "File \u001b[0;32m~/anaconda3/envs/LeeYS/lib/python3.9/site-packages/slideio/py_slideio.py:145\u001b[0m, in \u001b[0;36mScene.read_block\u001b[0;34m(self, rect, size, channel_indices, slices, frames)\u001b[0m\n\u001b[1;32m    132\u001b[0m \u001b[39mdef\u001b[39;00m \u001b[39mread_block\u001b[39m(\u001b[39mself\u001b[39m, rect\u001b[39m=\u001b[39m(\u001b[39m0\u001b[39m,\u001b[39m0\u001b[39m,\u001b[39m0\u001b[39m,\u001b[39m0\u001b[39m), size\u001b[39m=\u001b[39m(\u001b[39m0\u001b[39m,\u001b[39m0\u001b[39m), channel_indices\u001b[39m=\u001b[39m[], slices\u001b[39m=\u001b[39m(\u001b[39m0\u001b[39m,\u001b[39m1\u001b[39m), frames\u001b[39m=\u001b[39m(\u001b[39m0\u001b[39m,\u001b[39m1\u001b[39m)):\n\u001b[1;32m    133\u001b[0m \u001b[39m    \u001b[39m\u001b[39m'''Reads rectangular block of the scene with optional rescaling.\u001b[39;00m\n\u001b[1;32m    134\u001b[0m \n\u001b[1;32m    135\u001b[0m \u001b[39m    Args:\u001b[39;00m\n\u001b[0;32m   (...)\u001b[0m\n\u001b[1;32m    143\u001b[0m \u001b[39m        numpy array with pixel values\u001b[39;00m\n\u001b[1;32m    144\u001b[0m \u001b[39m    '''\u001b[39;00m\n\u001b[0;32m--> 145\u001b[0m     \u001b[39mreturn\u001b[39;00m \u001b[39mself\u001b[39;49m\u001b[39m.\u001b[39;49mscene\u001b[39m.\u001b[39;49mread_block(rect, size, channel_indices, slices, frames)\n",
      "\u001b[0;31mKeyboardInterrupt\u001b[0m: "
     ]
    }
   ],
   "source": [
    "slide_tile_size=1024\n",
    "\n",
    "for i in tqdm(range(len(train_svs_files))):\n",
    "    count=0\n",
    "    fileName=os.path.basename(os.path.splitext(train_svs_files[i])[0])\n",
    "    slide = slideio.open_slide(train_svs_files[i], \"GDAL\")\n",
    "    scene = slide.get_scene(0)\n",
    "    svsWidth = scene.rect[2]\n",
    "    svsHeight = scene.rect[3]\n",
    "    mask_file=[s for s in train_maske_files if fileName in s]\n",
    "    mask_image=np.array(Image.open(mask_file[0]))\n",
    "    ratio_index=os.path.basename(os.path.splitext(mask_file[0])[0]).find('_')\n",
    "    ratio=float(os.path.basename(os.path.splitext(mask_file[0])[0])[ratio_index+1:])\n",
    "    inverse_ratio=1/ratio\n",
    "    data_frame=train_csv[train_csv['데이터톤번호'].str.contains(fileName)]\n",
    "    data_frame=data_frame.reset_index()\n",
    "    createDirectory(train_tile_path+data_frame.loc[0]['폴더']+'/'+fileName)\n",
    "    for widthCount in range(0, int(svsWidth // slide_tile_size)):\n",
    "            for heightCount in range(0, int(svsHeight // slide_tile_size)):\n",
    "                point_x =np.linspace(widthCount*slide_tile_size,widthCount*slide_tile_size+slide_tile_size-1,slide_tile_size,dtype=np.int32)\n",
    "                point_y =np.linspace(heightCount*slide_tile_size,heightCount*slide_tile_size+slide_tile_size-1,slide_tile_size,dtype=np.int32)\n",
    "                point=np.meshgrid(point_x,point_y)\n",
    "                mask_point=np.copy(point)\n",
    "                mask_point[0]=(mask_point[0]*inverse_ratio).astype(np.int64)\n",
    "                mask_point[1]=(mask_point[1]*inverse_ratio).astype(np.int64)\n",
    "\n",
    "                tile_mask_image=mask_image[mask_point[1],mask_point[0]]/255\n",
    "                if tile_mask_image.mean()>=1/2:\n",
    "                    count+=1\n",
    "                    image = scene.read_block((widthCount * slide_tile_size, heightCount * slide_tile_size, slide_tile_size, slide_tile_size),size=(slide_tile_size,slide_tile_size))\n",
    "                    img=Image.fromarray(image) \n",
    "                    img.save(train_tile_path+data_frame.loc[0]['폴더']+'/'+fileName+'/'+fileName+'_'+str(count)+'.jpg')"
   ]
  },
  {
   "cell_type": "code",
   "execution_count": null,
   "metadata": {},
   "outputs": [],
   "source": [
    "slide_tile_size=1024\n",
    "\n",
    "for i in tqdm(range(len(validation_svs_files))):\n",
    "    count=0\n",
    "    fileName=os.path.basename(os.path.splitext(validation_svs_files[i])[0])\n",
    "    slide = slideio.open_slide(validation_svs_files[i], \"GDAL\")\n",
    "    scene = slide.get_scene(0)\n",
    "    svsWidth = scene.rect[2]\n",
    "    svsHeight = scene.rect[3]\n",
    "    mask_file=[s for s in validation_maske_files if fileName in s]\n",
    "    mask_image=np.array(Image.open(mask_file[0]))\n",
    "    ratio_index=os.path.basename(os.path.splitext(mask_file[0])[0]).find('_')\n",
    "    ratio=float(os.path.basename(os.path.splitext(mask_file[0])[0])[ratio_index+1:])\n",
    "    inverse_ratio=1/ratio\n",
    "    data_frame=validation_csv[validation_csv['데이터톤번호'].str.contains(fileName)]\n",
    "    createDirectory(validation_tile_path+data_frame.loc[0]['폴더']+'/'+fileName)\n",
    "    for widthCount in range(0, int(svsWidth // slide_tile_size)):\n",
    "            for heightCount in range(0, int(svsHeight // slide_tile_size)):\n",
    "                point_x =np.linspace(widthCount*slide_tile_size,widthCount*slide_tile_size+slide_tile_size-1,slide_tile_size,dtype=np.int32)\n",
    "                point_y =np.linspace(heightCount*slide_tile_size,heightCount*slide_tile_size+slide_tile_size-1,slide_tile_size,dtype=np.int32)\n",
    "                point=np.meshgrid(point_x,point_y)\n",
    "                mask_point=np.copy(point)\n",
    "                mask_point[0]=(mask_point[0]*inverse_ratio).astype(np.int64)\n",
    "                mask_point[1]=(mask_point[1]*inverse_ratio).astype(np.int64)\n",
    "\n",
    "                tile_mask_image=mask_image[mask_point[1],mask_point[0]]/255\n",
    "                if tile_mask_image.mean()>=1/2:\n",
    "                    count+=1\n",
    "                    image = scene.read_block((widthCount * slide_tile_size, heightCount * slide_tile_size, slide_tile_size, slide_tile_size),size=(slide_tile_size,slide_tile_size))\n",
    "                    img=Image.fromarray(image) \n",
    "                    img.save(validation_tile_path+data_frame.loc[0]['폴더']+'/'+fileName+'/'+fileName+'_'+str(count)+'.jpg')"
   ]
  },
  {
   "cell_type": "code",
   "execution_count": null,
   "metadata": {},
   "outputs": [],
   "source": []
  }
 ],
 "metadata": {
  "kernelspec": {
   "display_name": "LeeYS_tf210",
   "language": "python",
   "name": "python3"
  },
  "language_info": {
   "codemirror_mode": {
    "name": "ipython",
    "version": 3
   },
   "file_extension": ".py",
   "mimetype": "text/x-python",
   "name": "python",
   "nbconvert_exporter": "python",
   "pygments_lexer": "ipython3",
   "version": "3.9.0"
  },
  "orig_nbformat": 4
 },
 "nbformat": 4,
 "nbformat_minor": 2
}
