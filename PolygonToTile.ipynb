{
 "cells": [
  {
   "cell_type": "code",
   "execution_count": 1,
   "metadata": {},
   "outputs": [],
   "source": [
    "import numpy as np\n",
    "import slideio\n",
    "import os\n",
    "import warnings\n",
    "import pandas as pd\n",
    "from PIL import Image\n",
    "from glob import glob\n",
    "from tqdm.notebook import tqdm\n",
    "import warnings\n",
    "import math\n",
    "# 경고 메시지를 무시하도록 설정\n",
    "warnings.filterwarnings(\"ignore\")"
   ]
  },
  {
   "cell_type": "code",
   "execution_count": 2,
   "metadata": {},
   "outputs": [],
   "source": [
    "train_svs_files=glob('../../data/WSI/train/*/*.tiff')\n",
    "validation_svs_files=glob('../../data/WSI/validation/*/*.tiff')\n",
    "train_maske_files = glob('../../data/mask_thumbnail/train/*/*.tiff')\n",
    "validation_maske_files = glob('../../data/mask_thumbnail/validation/*/*.tiff')\n",
    "train_tile_path='../../data/ensemble_tile/raw/train/'\n",
    "validation_tile_path='../../data/ensemble_tile/raw/test/'\n",
    "train_csv=pd.read_csv('../../data/2023_dataton_age_sex_train.csv', encoding='cp949')\n",
    "validation_csv=pd.read_csv('../../data/2023_dataton_age_sex_validation.csv', encoding='cp949')"
   ]
  },
  {
   "cell_type": "code",
   "execution_count": 3,
   "metadata": {},
   "outputs": [],
   "source": [
    "def createDirectory(directory):\n",
    "    try:\n",
    "        if not os.path.exists(directory):\n",
    "            os.makedirs(directory)\n",
    "    except OSError:\n",
    "        print(\"Error: Failed to create the directory.\")"
   ]
  },
  {
   "cell_type": "code",
   "execution_count": 12,
   "metadata": {},
   "outputs": [
    {
     "data": {
      "application/vnd.jupyter.widget-view+json": {
       "model_id": "df9be7fda8574e64bd417256b5fc2b66",
       "version_major": 2,
       "version_minor": 0
      },
      "text/plain": [
       "  0%|          | 0/480 [00:00<?, ?it/s]"
      ]
     },
     "metadata": {},
     "output_type": "display_data"
    }
   ],
   "source": [
    "slide_tile_size=2048\n",
    "\n",
    "for i in tqdm(range(len(train_svs_files))):\n",
    "    count=0\n",
    "    fileName=os.path.basename(os.path.splitext(train_svs_files[i])[0])\n",
    "    slide = slideio.open_slide(train_svs_files[i], \"GDAL\")\n",
    "    scene = slide.get_scene(0)\n",
    "    svsWidth = scene.rect[2]\n",
    "    svsHeight = scene.rect[3]\n",
    "    mask_file=[s for s in train_maske_files if fileName in s]\n",
    "    mask_image=np.array(Image.open(mask_file[0]))\n",
    "    ratio_index=os.path.basename(os.path.splitext(mask_file[0])[0]).find('_')\n",
    "    ratio=float(os.path.basename(os.path.splitext(mask_file[0])[0])[ratio_index+1:])\n",
    "    inverse_ratio=math.floor(1/ratio*10000)/10000\n",
    "    data_frame=train_csv[train_csv['데이터톤번호'].str.contains(fileName)]\n",
    "    data_frame=data_frame.reset_index()\n",
    "    createDirectory(train_tile_path+data_frame.loc[0]['폴더']+'/5x/'+fileName)\n",
    "    createDirectory(train_tile_path+data_frame.loc[0]['폴더']+'/10x/'+fileName)\n",
    "    createDirectory(train_tile_path+data_frame.loc[0]['폴더']+'/20x/'+fileName)\n",
    "    for widthCount in range(0, int(svsWidth // slide_tile_size)):\n",
    "            for heightCount in range(0, int(svsHeight // slide_tile_size)):\n",
    "                point_x =np.linspace(widthCount*slide_tile_size,widthCount*slide_tile_size+slide_tile_size-1,slide_tile_size,dtype=np.int32)\n",
    "                point_y =np.linspace(heightCount*slide_tile_size,heightCount*slide_tile_size+slide_tile_size-1,slide_tile_size,dtype=np.int32)\n",
    "                point=np.meshgrid(point_x,point_y)\n",
    "                mask_point=np.copy(point)\n",
    "                mask_point[0]=(mask_point[0]*inverse_ratio).astype(np.int64)\n",
    "                mask_point[1]=(mask_point[1]*inverse_ratio).astype(np.int64)\n",
    "                if mask_point[0].max()==mask_image.shape[1]:\n",
    "                    mask_point[0]-=1\n",
    "                if mask_point[1].max()==mask_image.shape[0]:\n",
    "                    mask_point[1]-=1\n",
    "                try:\n",
    "                    tile_mask_image=mask_image[mask_point[1],mask_point[0]]/255\n",
    "                    if tile_mask_image.mean()>=1/2:\n",
    "                        count+=1\n",
    "                        image = scene.read_block((widthCount * slide_tile_size, heightCount * slide_tile_size, slide_tile_size, slide_tile_size),size=(1024,1024))\n",
    "                        img=Image.fromarray(image).resize((256,256))\n",
    "                        img.save(train_tile_path+data_frame.loc[0]['폴더']+'/5x/'+fileName+'/'+fileName+'_'+str(count)+'.jpg')\n",
    "                        img_count=0\n",
    "                        k=np.random.randint(2, size=1)[0]\n",
    "                        j=np.random.randint(2, size=1)[0]\n",
    "                        img=image[512*k:512*k+512,512*j:512*j+512]\n",
    "                        while_count=0\n",
    "                        while len(np.where(img[:,:,1]>=220)[0]) < (512*512)/2:\n",
    "                            k=np.random.randint(2, size=1)[0]\n",
    "                            j=np.random.randint(2, size=1)[0]\n",
    "                            img=image[512*k:512*k+512,512*j:512*j+512]\n",
    "                            while_count+=1\n",
    "                            if while_count==10:\n",
    "                                break\n",
    "                        Image.fromarray(img).resize((256,256)).save(train_tile_path+data_frame.loc[0]['폴더']+'/10x/'+fileName+'/'+fileName+'_'+str(count)+'.jpg')\n",
    "                        k=np.random.randint(4, size=1)[0]\n",
    "                        j=np.random.randint(4, size=1)[0]\n",
    "                        img=image[256*k:256*k+256,256*j:256*j+256]\n",
    "                        while_count=0\n",
    "                        while len(np.where(img[:,:,1]>=220)[0]) < (256*256)/2:\n",
    "                            k=np.random.randint(2, size=1)[0]\n",
    "                            j=np.random.randint(2, size=1)[0]\n",
    "                            img=image[256*k:256*k+256,256*j:256*j+256]\n",
    "                            while_count+=1\n",
    "                            if while_count==10:\n",
    "                                break\n",
    "                        Image.fromarray(img).resize((256,256)).save(train_tile_path+data_frame.loc[0]['폴더']+'/20x/'+fileName+'/'+fileName+'_'+str(count)+'.jpg')\n",
    "                        img_count+=1\n",
    "                except:\n",
    "                    print(fileName+'_'+str(count))"
   ]
  },
  {
   "cell_type": "code",
   "execution_count": 4,
   "metadata": {},
   "outputs": [
    {
     "data": {
      "application/vnd.jupyter.widget-view+json": {
       "model_id": "adb2f5e3e0584fbdb19a3458e19e8ab2",
       "version_major": 2,
       "version_minor": 0
      },
      "text/plain": [
       "  0%|          | 0/120 [00:00<?, ?it/s]"
      ]
     },
     "metadata": {},
     "output_type": "display_data"
    }
   ],
   "source": [
    "slide_tile_size=2048\n",
    "\n",
    "for i in tqdm(range(len(validation_svs_files))):\n",
    "    count=0\n",
    "    fileName=os.path.basename(os.path.splitext(validation_svs_files[i])[0])\n",
    "    slide = slideio.open_slide(validation_svs_files[i], \"GDAL\")\n",
    "    scene = slide.get_scene(0)\n",
    "    svsWidth = scene.rect[2]\n",
    "    svsHeight = scene.rect[3]\n",
    "    mask_file=[s for s in validation_maske_files if fileName in s]\n",
    "    mask_image=np.array(Image.open(mask_file[0]))\n",
    "    ratio_index=os.path.basename(os.path.splitext(mask_file[0])[0]).find('_')\n",
    "    ratio=float(os.path.basename(os.path.splitext(mask_file[0])[0])[ratio_index+1:])\n",
    "    inverse_ratio=math.floor(1/ratio*10000)/10000\n",
    "    data_frame=validation_csv[validation_csv['데이터톤번호'].str.contains(fileName)]\n",
    "    data_frame=data_frame.reset_index()\n",
    "    createDirectory(validation_tile_path+data_frame.loc[0]['폴더']+'/5x/'+fileName)\n",
    "    createDirectory(validation_tile_path+data_frame.loc[0]['폴더']+'/10x/'+fileName)\n",
    "    createDirectory(validation_tile_path+data_frame.loc[0]['폴더']+'/20x/'+fileName)\n",
    "    for widthCount in range(0, int(svsWidth // slide_tile_size)):\n",
    "            for heightCount in range(0, int(svsHeight // slide_tile_size)):\n",
    "                point_x =np.linspace(widthCount*slide_tile_size,widthCount*slide_tile_size+slide_tile_size-1,slide_tile_size,dtype=np.int32)\n",
    "                point_y =np.linspace(heightCount*slide_tile_size,heightCount*slide_tile_size+slide_tile_size-1,slide_tile_size,dtype=np.int32)\n",
    "                point=np.meshgrid(point_x,point_y)\n",
    "                mask_point=np.copy(point)\n",
    "                mask_point[0]=(mask_point[0]*inverse_ratio).astype(np.int64)\n",
    "                mask_point[1]=(mask_point[1]*inverse_ratio).astype(np.int64)\n",
    "                if mask_point[0].max()==mask_image.shape[1]:\n",
    "                    mask_point[0]-=1\n",
    "                if mask_point[1].max()==mask_image.shape[0]:\n",
    "                    mask_point[1]-=1\n",
    "                try:\n",
    "                    tile_mask_image=mask_image[mask_point[1],mask_point[0]]/255\n",
    "                    if tile_mask_image.mean()>=1/2:\n",
    "                        count+=1\n",
    "                        image = scene.read_block((widthCount * slide_tile_size, heightCount * slide_tile_size, slide_tile_size, slide_tile_size),size=(1024,1024))\n",
    "                        img=Image.fromarray(image).resize((256,256))\n",
    "                        img.save(validation_tile_path+data_frame.loc[0]['폴더']+'/5x/'+fileName+'/'+fileName+'_'+str(count)+'.jpg')\n",
    "                        img_count=0\n",
    "                        k=np.random.randint(2, size=1)[0]\n",
    "                        j=np.random.randint(2, size=1)[0]\n",
    "                        img=image[512*k:512*k+512,512*j:512*j+512]\n",
    "                        while_count=0\n",
    "                        while len(np.where(img[:,:,1]>=200)[0]) < (512*512)/2:\n",
    "                            k=np.random.randint(2, size=1)[0]\n",
    "                            j=np.random.randint(2, size=1)[0]\n",
    "                            img=image[512*k:512*k+512,512*j:512*j+512]\n",
    "                            while_count+=1\n",
    "                            if while_count==10:\n",
    "                                break\n",
    "                        Image.fromarray(img).resize((256,256)).save(validation_tile_path+data_frame.loc[0]['폴더']+'/10x/'+fileName+'/'+fileName+'_'+str(count)+'.jpg')\n",
    "                        k=np.random.randint(4, size=1)[0]\n",
    "                        j=np.random.randint(4, size=1)[0]\n",
    "                        img=image[256*k:256*k+256,256*j:256*j+256]\n",
    "                        while_count=0\n",
    "                        while len(np.where(img[:,:,1]>=200)[0]) < (256*256)/2:\n",
    "                            k=np.random.randint(2, size=1)[0]\n",
    "                            j=np.random.randint(2, size=1)[0]\n",
    "                            img=image[256*k:256*k+256,256*j:256*j+256]\n",
    "                            while_count+=1\n",
    "                            if while_count==10:\n",
    "                                break\n",
    "                        Image.fromarray(img).resize((256,256)).save(validation_tile_path+data_frame.loc[0]['폴더']+'/20x/'+fileName+'/'+fileName+'_'+str(count)+'.jpg')\n",
    "                        img_count+=1\n",
    "                except:\n",
    "                    print(fileName+'_'+str(count))"
   ]
  }
 ],
 "metadata": {
  "kernelspec": {
   "display_name": "LeeYS_tf210",
   "language": "python",
   "name": "python3"
  },
  "language_info": {
   "codemirror_mode": {
    "name": "ipython",
    "version": 3
   },
   "file_extension": ".py",
   "mimetype": "text/x-python",
   "name": "python",
   "nbconvert_exporter": "python",
   "pygments_lexer": "ipython3",
   "version": "3.9.0"
  },
  "orig_nbformat": 4
 },
 "nbformat": 4,
 "nbformat_minor": 2
}
