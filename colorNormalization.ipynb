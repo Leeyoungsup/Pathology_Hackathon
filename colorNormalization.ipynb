{
 "cells": [
  {
   "cell_type": "code",
   "execution_count": 7,
   "metadata": {},
   "outputs": [],
   "source": [
    "from glob import glob\n",
    "import numpy as np\n",
    "from PIL import Image\n",
    "import os\n",
    "import matplotlib.pyplot as plt\n",
    "from tqdm.notebook import tqdm\n",
    "import cv2\n",
    "import torchstain\n",
    "import torch\n",
    "from torchvision import transforms\n",
    "device = torch.device(\"cuda:0\" if torch.cuda.is_available() else \"cpu\")"
   ]
  },
  {
   "cell_type": "code",
   "execution_count": 8,
   "metadata": {},
   "outputs": [],
   "source": [
    "image_list=glob('../../data/ensemble_tile/raw/test/**/5x/CODIPAI-THCB-0487/*.jpg')\n",
    "folder_list=glob('../../data/ensemble_tile/raw/test/**/5x/CODIPAI-THCB-0487')"
   ]
  },
  {
   "cell_type": "code",
   "execution_count": 9,
   "metadata": {},
   "outputs": [],
   "source": [
    "save_image_list=[f.replace('/raw/', '/CN/') for f in image_list]\n",
    "save_folder_list=[f.replace('/raw/', '/CN/') for f in folder_list]\n",
    "def createDirectory(directory):\n",
    "    try:\n",
    "        if not os.path.exists(directory):\n",
    "            os.makedirs(directory)\n",
    "    except OSError:\n",
    "        print(\"Error: Failed to create the directory.\")\n",
    "for i in range(len(save_folder_list)):\n",
    "    createDirectory(save_folder_list[i])"
   ]
  },
  {
   "cell_type": "code",
   "execution_count": 10,
   "metadata": {},
   "outputs": [],
   "source": [
    "\n",
    "target =np.array(Image.open('../../data/ensemble_tile/raw/train/not_transition/5x/CODIPAI-THCB-0005/CODIPAI-THCB-0005_13.jpg'))\n",
    "\n",
    "\n",
    "T = transforms.Compose([\n",
    "    transforms.ToTensor(),\n",
    "    transforms.Lambda(lambda x: x*255)\n",
    "])\n",
    "\n",
    "torch_normalizer = torchstain.normalizers.MacenkoNormalizer(backend='torch')\n",
    "\n",
    "torch_normalizer.fit(T(target).to(device))\n"
   ]
  },
  {
   "cell_type": "code",
   "execution_count": 11,
   "metadata": {},
   "outputs": [
    {
     "data": {
      "application/vnd.jupyter.widget-view+json": {
       "model_id": "90c1c02320f9408bacc0480ad53742aa",
       "version_major": 2,
       "version_minor": 0
      },
      "text/plain": [
       "  0%|          | 0/52 [00:00<?, ?it/s]"
      ]
     },
     "metadata": {},
     "output_type": "display_data"
    }
   ],
   "source": [
    "\n",
    "for i in tqdm(range(i,len(image_list))):\n",
    "    img=np.array(Image.open(image_list[i]))\n",
    "   \n",
    "    img= torch_normalizer.normalize(I=T(img).to(device), stains=False)\n",
    "\n",
    "    Image.fromarray(img[0].cpu().numpy().astype(np.uint8)).save(save_image_list[i])\n",
    "    "
   ]
  },
  {
   "cell_type": "code",
   "execution_count": 12,
   "metadata": {},
   "outputs": [
    {
     "data": {
      "text/plain": [
       "51"
      ]
     },
     "execution_count": 12,
     "metadata": {},
     "output_type": "execute_result"
    }
   ],
   "source": [
    "i"
   ]
  }
 ],
 "metadata": {
  "kernelspec": {
   "display_name": "LeeYS",
   "language": "python",
   "name": "python3"
  },
  "language_info": {
   "codemirror_mode": {
    "name": "ipython",
    "version": 3
   },
   "file_extension": ".py",
   "mimetype": "text/x-python",
   "name": "python",
   "nbconvert_exporter": "python",
   "pygments_lexer": "ipython3",
   "version": "3.9.0"
  },
  "orig_nbformat": 4
 },
 "nbformat": 4,
 "nbformat_minor": 2
}
