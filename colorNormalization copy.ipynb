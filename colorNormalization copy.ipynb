{
 "cells": [
  {
   "cell_type": "code",
   "execution_count": 1,
   "metadata": {},
   "outputs": [],
   "source": [
    "from glob import glob\n",
    "import numpy as np\n",
    "from PIL import Image\n",
    "import os\n",
    "import matplotlib.pyplot as plt\n",
    "from tqdm.notebook import tqdm\n",
    "import cv2\n",
    "import torchstain\n",
    "import torch\n",
    "from torchvision import transforms\n",
    "device = torch.device(\"cuda:0\" if torch.cuda.is_available() else \"cpu\")"
   ]
  },
  {
   "cell_type": "code",
   "execution_count": 2,
   "metadata": {},
   "outputs": [],
   "source": [
    "image_list=glob('../../data/Tiling/512/**/**/**/*.jpg')\n",
    "folder_list=glob('../../data/Tiling/512/**/**/**')"
   ]
  },
  {
   "cell_type": "code",
   "execution_count": 3,
   "metadata": {},
   "outputs": [],
   "source": [
    "save_image_list=[f.replace('/512/', '/512_CN/') for f in image_list]\n",
    "save_folder_list=[f.replace('/512/', '/512_CN/') for f in folder_list]\n",
    "def createDirectory(directory):\n",
    "    try:\n",
    "        if not os.path.exists(directory):\n",
    "            os.makedirs(directory)\n",
    "    except OSError:\n",
    "        print(\"Error: Failed to create the directory.\")\n",
    "for i in range(len(save_folder_list)):\n",
    "    createDirectory(save_folder_list[i])"
   ]
  },
  {
   "cell_type": "code",
   "execution_count": 4,
   "metadata": {},
   "outputs": [],
   "source": [
    "\n",
    "target = cv2.cvtColor(cv2.imread('../../data/Tiling/512/train/not_transition/CODIPAI-THCB-0001/CODIPAI-THCB-0001_104.jpg'), cv2.COLOR_BGR2RGB)\n",
    "\n",
    "\n",
    "T = transforms.Compose([\n",
    "    transforms.ToTensor(),\n",
    "    transforms.Lambda(lambda x: x*255)\n",
    "])\n",
    "\n",
    "torch_normalizer = torchstain.normalizers.MacenkoNormalizer(backend='torch')\n",
    "\n",
    "torch_normalizer.fit(T(target).to(device))\n"
   ]
  },
  {
   "cell_type": "code",
   "execution_count": 5,
   "metadata": {},
   "outputs": [
    {
     "data": {
      "application/vnd.jupyter.widget-view+json": {
       "model_id": "bc6bf7d9695e4c1c8d9ba8afde4ed4ed",
       "version_major": 2,
       "version_minor": 0
      },
      "text/plain": [
       "  0%|          | 0/419427 [00:00<?, ?it/s]"
      ]
     },
     "metadata": {},
     "output_type": "display_data"
    }
   ],
   "source": [
    "\n",
    "for i in tqdm(range(len(image_list))):\n",
    "    img=np.array(Image.open(image_list[i]))\n",
    "    try:\n",
    "        img= torch_normalizer.normalize(I=T(img).to(device), stains=False)\n",
    "\n",
    "        Image.fromarray(img[0].cpu().numpy().astype(np.uint8)).save(save_image_list[i])\n",
    "    except:\n",
    "        pass\n",
    "    "
   ]
  }
 ],
 "metadata": {
  "kernelspec": {
   "display_name": "LeeYS",
   "language": "python",
   "name": "python3"
  },
  "language_info": {
   "codemirror_mode": {
    "name": "ipython",
    "version": 3
   },
   "file_extension": ".py",
   "mimetype": "text/x-python",
   "name": "python",
   "nbconvert_exporter": "python",
   "pygments_lexer": "ipython3",
   "version": "3.9.0"
  },
  "orig_nbformat": 4
 },
 "nbformat": 4,
 "nbformat_minor": 2
}
