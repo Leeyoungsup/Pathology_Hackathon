{
 "cells": [
  {
   "cell_type": "code",
   "execution_count": 1,
   "metadata": {},
   "outputs": [],
   "source": [
    "import os\n",
    "import numpy as np \n",
    "from glob import glob\n",
    "from PIL import Image\n",
    "import cv2\n",
    "import slideio"
   ]
  },
  {
   "cell_type": "code",
   "execution_count": 3,
   "metadata": {},
   "outputs": [],
   "source": [
    "not_transition_list=glob('../../data/whole_slide/not_transition/*.tiff')\n",
    "transition_list =glob('../../data/whole_slide/transition/*.tiff')\n",
    "\n",
    "transition_image_list=[f.replace('/whole_slide/transition', '/Image/transition') for f in transition_list]\n",
    "not_transition_image_list=[f.replace('/whole_slide/not_transition', '/Image/not_transition') for f in not_transition_list]"
   ]
  },
  {
   "cell_type": "code",
   "execution_count": 40,
   "metadata": {},
   "outputs": [
    {
     "name": "stderr",
     "output_type": "stream",
     "text": [
      "ERROR 1: ../../data/whole_slide/transition/CODIPAI-THCB-SS-02226-S-CN-01_0.tiff: ../../data/whole_slide/transition/CODIPAI-THCB-SS-02226-S-CN-01_0.tiff:Failed to allocate memory for to read TIFF directory (0 elements of 12 bytes each)\n",
      "ERROR 1: ../../data/whole_slide/transition/CODIPAI-THCB-SS-02226-S-CN-01_0.tiff: TIFFReadDirectory:Failed to read directory at offset 8\n"
     ]
    },
    {
     "ename": "RuntimeError",
     "evalue": "Cannot open file with GDAL driver:../../data/whole_slide/transition/CODIPAI-THCB-SS-02226-S-CN-01_0.tiff",
     "output_type": "error",
     "traceback": [
      "\u001b[0;31m---------------------------------------------------------------------------\u001b[0m",
      "\u001b[0;31mRuntimeError\u001b[0m                              Traceback (most recent call last)",
      "Cell \u001b[0;32mIn[40], line 13\u001b[0m\n\u001b[1;32m     10\u001b[0m     cv2\u001b[39m.\u001b[39mimwrite(not_transition_image_list[i], image)\n\u001b[1;32m     12\u001b[0m \u001b[39mfor\u001b[39;00m i \u001b[39min\u001b[39;00m \u001b[39mrange\u001b[39m(\u001b[39mlen\u001b[39m(transition_list)):\n\u001b[0;32m---> 13\u001b[0m     slide \u001b[39m=\u001b[39m slideio\u001b[39m.\u001b[39;49mopen_slide(transition_list[i], \u001b[39m\"\u001b[39;49m\u001b[39mGDAL\u001b[39;49m\u001b[39m\"\u001b[39;49m)\n\u001b[1;32m     14\u001b[0m     num_scenes \u001b[39m=\u001b[39m slide\u001b[39m.\u001b[39mnum_scenes\n\u001b[1;32m     15\u001b[0m     scene \u001b[39m=\u001b[39m slide\u001b[39m.\u001b[39mget_scene(\u001b[39m0\u001b[39m)\n",
      "File \u001b[0;32m~/anaconda3/envs/LeeYS/lib/python3.9/site-packages/slideio/py_slideio.py:272\u001b[0m, in \u001b[0;36mopen_slide\u001b[0;34m(path, driver)\u001b[0m\n\u001b[1;32m    265\u001b[0m \u001b[39mdef\u001b[39;00m \u001b[39mopen_slide\u001b[39m(path:\u001b[39mstr\u001b[39m, driver:\u001b[39mstr\u001b[39m\u001b[39m=\u001b[39m\u001b[39m'\u001b[39m\u001b[39mAUTO\u001b[39m\u001b[39m'\u001b[39m):\n\u001b[1;32m    266\u001b[0m \u001b[39m    \u001b[39m\u001b[39m'''Returns an instance of a slide object\u001b[39;00m\n\u001b[1;32m    267\u001b[0m \n\u001b[1;32m    268\u001b[0m \u001b[39m    Args:\u001b[39;00m\n\u001b[1;32m    269\u001b[0m \u001b[39m        path: a path to the image file\u001b[39;00m\n\u001b[1;32m    270\u001b[0m \u001b[39m        driver: name of the driver or \"AUTO\" for automatic driver selection\u001b[39;00m\n\u001b[1;32m    271\u001b[0m \u001b[39m    '''\u001b[39;00m\n\u001b[0;32m--> 272\u001b[0m     slide \u001b[39m=\u001b[39m Slide(path, driver)\n\u001b[1;32m    273\u001b[0m     \u001b[39mreturn\u001b[39;00m slide\n",
      "File \u001b[0;32m~/anaconda3/envs/LeeYS/lib/python3.9/site-packages/slideio/py_slideio.py:188\u001b[0m, in \u001b[0;36mSlide.__init__\u001b[0;34m(self, path, driver)\u001b[0m\n\u001b[1;32m    187\u001b[0m \u001b[39mdef\u001b[39;00m \u001b[39m__init__\u001b[39m(\u001b[39mself\u001b[39m, path:\u001b[39mstr\u001b[39m, driver:\u001b[39mstr\u001b[39m):\n\u001b[0;32m--> 188\u001b[0m     \u001b[39mself\u001b[39m\u001b[39m.\u001b[39mslide \u001b[39m=\u001b[39m sld\u001b[39m.\u001b[39;49mopen_slide(path, driver)\n",
      "\u001b[0;31mRuntimeError\u001b[0m: Cannot open file with GDAL driver:../../data/whole_slide/transition/CODIPAI-THCB-SS-02226-S-CN-01_0.tiff"
     ]
    }
   ],
   "source": [
    "img_width,img_height=2048,2048\n",
    "for i in range(len(not_transition_list)):\n",
    "    slide = slideio.open_slide(not_transition_list[i], \"GDAL\")\n",
    "    num_scenes = slide.num_scenes\n",
    "    scene = slide.get_scene(0)\n",
    "    svsWidth = scene.rect[2]\n",
    "    svsHeight = scene.rect[3]\n",
    "    slide_block = scene.read_block((0, 0, svsWidth, svsHeight),size=(int(img_width), int(img_height)))\n",
    "    image=cv2.cvtColor(slide_block, cv2.COLOR_BGR2RGB)\n",
    "    cv2.imwrite(not_transition_image_list[i], image)\n",
    "    \n",
    "for i in range(len(transition_list)):\n",
    "    slide = slideio.open_slide(transition_list[i], \"GDAL\")\n",
    "    num_scenes = slide.num_scenes\n",
    "    scene = slide.get_scene(0)\n",
    "    svsWidth = scene.rect[2]\n",
    "    svsHeight = scene.rect[3]\n",
    "    slide_block = scene.read_block((0, 0, svsWidth, svsHeight),size=(img_width, img_height))\n",
    "    image = cv2.cvtColor(slide_block, cv2.COLOR_BGR2RGB)\n",
    "    cv2.imwrite(transition_image_list[i], image)"
   ]
  },
  {
   "cell_type": "code",
   "execution_count": 43,
   "metadata": {},
   "outputs": [
    {
     "name": "stderr",
     "output_type": "stream",
     "text": [
      "ERROR 1: ../../data/whole_slide/transition/CODIPAI-THCB-SS-02226-S-CN-01_0.tiff: ../../data/whole_slide/transition/CODIPAI-THCB-SS-02226-S-CN-01_0.tiff:Failed to allocate memory for to read TIFF directory (0 elements of 12 bytes each)\n",
      "ERROR 1: ../../data/whole_slide/transition/CODIPAI-THCB-SS-02226-S-CN-01_0.tiff: TIFFReadDirectory:Failed to read directory at offset 8\n"
     ]
    },
    {
     "ename": "RuntimeError",
     "evalue": "Cannot open file with GDAL driver:../../data/whole_slide/transition/CODIPAI-THCB-SS-02226-S-CN-01_0.tiff",
     "output_type": "error",
     "traceback": [
      "\u001b[0;31m---------------------------------------------------------------------------\u001b[0m",
      "\u001b[0;31mRuntimeError\u001b[0m                              Traceback (most recent call last)",
      "Cell \u001b[0;32mIn[43], line 1\u001b[0m\n\u001b[0;32m----> 1\u001b[0m slide \u001b[39m=\u001b[39m slideio\u001b[39m.\u001b[39;49mopen_slide(transition_list[i], \u001b[39m\"\u001b[39;49m\u001b[39mGDAL\u001b[39;49m\u001b[39m\"\u001b[39;49m)\n",
      "File \u001b[0;32m~/anaconda3/envs/LeeYS/lib/python3.9/site-packages/slideio/py_slideio.py:272\u001b[0m, in \u001b[0;36mopen_slide\u001b[0;34m(path, driver)\u001b[0m\n\u001b[1;32m    265\u001b[0m \u001b[39mdef\u001b[39;00m \u001b[39mopen_slide\u001b[39m(path:\u001b[39mstr\u001b[39m, driver:\u001b[39mstr\u001b[39m\u001b[39m=\u001b[39m\u001b[39m'\u001b[39m\u001b[39mAUTO\u001b[39m\u001b[39m'\u001b[39m):\n\u001b[1;32m    266\u001b[0m \u001b[39m    \u001b[39m\u001b[39m'''Returns an instance of a slide object\u001b[39;00m\n\u001b[1;32m    267\u001b[0m \n\u001b[1;32m    268\u001b[0m \u001b[39m    Args:\u001b[39;00m\n\u001b[1;32m    269\u001b[0m \u001b[39m        path: a path to the image file\u001b[39;00m\n\u001b[1;32m    270\u001b[0m \u001b[39m        driver: name of the driver or \"AUTO\" for automatic driver selection\u001b[39;00m\n\u001b[1;32m    271\u001b[0m \u001b[39m    '''\u001b[39;00m\n\u001b[0;32m--> 272\u001b[0m     slide \u001b[39m=\u001b[39m Slide(path, driver)\n\u001b[1;32m    273\u001b[0m     \u001b[39mreturn\u001b[39;00m slide\n",
      "File \u001b[0;32m~/anaconda3/envs/LeeYS/lib/python3.9/site-packages/slideio/py_slideio.py:188\u001b[0m, in \u001b[0;36mSlide.__init__\u001b[0;34m(self, path, driver)\u001b[0m\n\u001b[1;32m    187\u001b[0m \u001b[39mdef\u001b[39;00m \u001b[39m__init__\u001b[39m(\u001b[39mself\u001b[39m, path:\u001b[39mstr\u001b[39m, driver:\u001b[39mstr\u001b[39m):\n\u001b[0;32m--> 188\u001b[0m     \u001b[39mself\u001b[39m\u001b[39m.\u001b[39mslide \u001b[39m=\u001b[39m sld\u001b[39m.\u001b[39;49mopen_slide(path, driver)\n",
      "\u001b[0;31mRuntimeError\u001b[0m: Cannot open file with GDAL driver:../../data/whole_slide/transition/CODIPAI-THCB-SS-02226-S-CN-01_0.tiff"
     ]
    }
   ],
   "source": [
    "slide = slideio.open_slide(transition_list[i], \"GDAL\")"
   ]
  }
 ],
 "metadata": {
  "kernelspec": {
   "display_name": "LeeYS",
   "language": "python",
   "name": "python3"
  },
  "language_info": {
   "codemirror_mode": {
    "name": "ipython",
    "version": 3
   },
   "file_extension": ".py",
   "mimetype": "text/x-python",
   "name": "python",
   "nbconvert_exporter": "python",
   "pygments_lexer": "ipython3",
   "version": "3.9.0"
  },
  "orig_nbformat": 4
 },
 "nbformat": 4,
 "nbformat_minor": 2
}
