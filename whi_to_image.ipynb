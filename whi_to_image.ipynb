{
 "cells": [
  {
   "cell_type": "code",
   "execution_count": 1,
   "metadata": {},
   "outputs": [],
   "source": [
    "import os\n",
    "import numpy as np \n",
    "from glob import glob\n",
    "from PIL import Image\n",
    "import cv2\n",
    "import slideio"
   ]
  },
  {
   "cell_type": "code",
   "execution_count": 2,
   "metadata": {},
   "outputs": [],
   "source": [
    "train_not_transition_list=glob('../../data/WSI/train/not_transition/*.tiff')\n",
    "train_transition_list =glob('../../data/WSI/train/transition/*.tiff')\n",
    "validation_not_transition_list=glob('../../data/WSI/validation/not_transition/*.tiff')\n",
    "validation_transition_list =glob('../../data/WSI/validation/transition/*.tiff')\n",
    "\n",
    "train_transition_image_list=[f.replace('/WSI/', '/thumbnail/') for f in train_transition_list]\n",
    "train_not_transition_image_list=[f.replace('/WSI/', '/thumbnail/') for f in train_not_transition_list]\n",
    "validation_transition_image_list=[f.replace('/WSI/', '/thumbnail/') for f in validation_transition_list]\n",
    "validation_not_transition_image_list=[f.replace('/WSI/', '/thumbnail/') for f in validation_not_transition_list]\n",
    "\n"
   ]
  },
  {
   "cell_type": "code",
   "execution_count": 3,
   "metadata": {},
   "outputs": [],
   "source": [
    "def size_ratio(scene,img_size):\n",
    "    width = scene.rect[2]\n",
    "    height = scene.rect[3]\n",
    "    ratio=0\n",
    "    inverse_ratio=0\n",
    "    img_width=0\n",
    "    img_height=0\n",
    "    if width>height:\n",
    "        ratio=img_size/width\n",
    "        inverse_ratio=width/img_size\n",
    "        img_width=img_size\n",
    "        img_height=height*ratio\n",
    "    else:\n",
    "        ratio=img_size/height\n",
    "        inverse_ratio=height/img_size\n",
    "        img_height=img_size\n",
    "        img_width=width*ratio\n",
    "        \n",
    "    return int(img_width),int(img_height),inverse_ratio"
   ]
  },
  {
   "cell_type": "code",
   "execution_count": 4,
   "metadata": {},
   "outputs": [
    {
     "ename": "KeyboardInterrupt",
     "evalue": "",
     "output_type": "error",
     "traceback": [
      "\u001b[0;31m---------------------------------------------------------------------------\u001b[0m",
      "\u001b[0;31mKeyboardInterrupt\u001b[0m                         Traceback (most recent call last)",
      "Cell \u001b[0;32mIn[4], line 8\u001b[0m\n\u001b[1;32m      6\u001b[0m svsWidth \u001b[39m=\u001b[39m scene\u001b[39m.\u001b[39mrect[\u001b[39m2\u001b[39m]\n\u001b[1;32m      7\u001b[0m svsHeight \u001b[39m=\u001b[39m scene\u001b[39m.\u001b[39mrect[\u001b[39m3\u001b[39m]\n\u001b[0;32m----> 8\u001b[0m slide_block \u001b[39m=\u001b[39m scene\u001b[39m.\u001b[39;49mread_block((\u001b[39m0\u001b[39;49m, \u001b[39m0\u001b[39;49m, svsWidth, svsHeight),size\u001b[39m=\u001b[39;49m(\u001b[39mint\u001b[39;49m(img_width), \u001b[39mint\u001b[39;49m(img_height)))\n\u001b[1;32m      9\u001b[0m image\u001b[39m=\u001b[39mcv2\u001b[39m.\u001b[39mcvtColor(slide_block, cv2\u001b[39m.\u001b[39mCOLOR_BGR2RGB)\n\u001b[1;32m     10\u001b[0m cv2\u001b[39m.\u001b[39mimwrite(os\u001b[39m.\u001b[39mpath\u001b[39m.\u001b[39msplitext(train_not_transition_image_list[i])[\u001b[39m0\u001b[39m]\u001b[39m+\u001b[39m\u001b[39m'\u001b[39m\u001b[39m_\u001b[39m\u001b[39m'\u001b[39m\u001b[39m+\u001b[39m\u001b[39mstr\u001b[39m(\u001b[39mround\u001b[39m(ratio,\u001b[39m4\u001b[39m))\u001b[39m+\u001b[39m\u001b[39m'\u001b[39m\u001b[39m.tiff\u001b[39m\u001b[39m'\u001b[39m, image)\n",
      "File \u001b[0;32m~/anaconda3/envs/LeeYS/lib/python3.9/site-packages/slideio/py_slideio.py:145\u001b[0m, in \u001b[0;36mScene.read_block\u001b[0;34m(self, rect, size, channel_indices, slices, frames)\u001b[0m\n\u001b[1;32m    132\u001b[0m \u001b[39mdef\u001b[39;00m \u001b[39mread_block\u001b[39m(\u001b[39mself\u001b[39m, rect\u001b[39m=\u001b[39m(\u001b[39m0\u001b[39m,\u001b[39m0\u001b[39m,\u001b[39m0\u001b[39m,\u001b[39m0\u001b[39m), size\u001b[39m=\u001b[39m(\u001b[39m0\u001b[39m,\u001b[39m0\u001b[39m), channel_indices\u001b[39m=\u001b[39m[], slices\u001b[39m=\u001b[39m(\u001b[39m0\u001b[39m,\u001b[39m1\u001b[39m), frames\u001b[39m=\u001b[39m(\u001b[39m0\u001b[39m,\u001b[39m1\u001b[39m)):\n\u001b[1;32m    133\u001b[0m \u001b[39m    \u001b[39m\u001b[39m'''Reads rectangular block of the scene with optional rescaling.\u001b[39;00m\n\u001b[1;32m    134\u001b[0m \n\u001b[1;32m    135\u001b[0m \u001b[39m    Args:\u001b[39;00m\n\u001b[0;32m   (...)\u001b[0m\n\u001b[1;32m    143\u001b[0m \u001b[39m        numpy array with pixel values\u001b[39;00m\n\u001b[1;32m    144\u001b[0m \u001b[39m    '''\u001b[39;00m\n\u001b[0;32m--> 145\u001b[0m     \u001b[39mreturn\u001b[39;00m \u001b[39mself\u001b[39;49m\u001b[39m.\u001b[39;49mscene\u001b[39m.\u001b[39;49mread_block(rect, size, channel_indices, slices, frames)\n",
      "\u001b[0;31mKeyboardInterrupt\u001b[0m: "
     ]
    }
   ],
   "source": [
    "\n",
    "for i in range(len(train_not_transition_list)):\n",
    "    slide = slideio.open_slide(train_not_transition_list[i], \"GDAL\")\n",
    "    num_scenes = slide.num_scenes\n",
    "    scene = slide.get_scene(0)\n",
    "    img_width,img_height,ratio=size_ratio(scene,2048)\n",
    "    svsWidth = scene.rect[2]\n",
    "    svsHeight = scene.rect[3]\n",
    "    slide_block = scene.read_block((0, 0, svsWidth, svsHeight),size=(int(img_width), int(img_height)))\n",
    "    image=cv2.cvtColor(slide_block, cv2.COLOR_BGR2RGB)\n",
    "    cv2.imwrite(os.path.splitext(train_not_transition_image_list[i])[0]+'_'+str(round(ratio,4))+'.tiff', image)\n",
    "    \n",
    "for i in range(len(train_transition_list)):\n",
    "    slide = slideio.open_slide(train_transition_list[i], \"GDAL\")\n",
    "    num_scenes = slide.num_scenes\n",
    "    scene = slide.get_scene(0)\n",
    "    img_width,img_height,ratio=size_ratio(scene,2048)\n",
    "    svsWidth = scene.rect[2]\n",
    "    svsHeight = scene.rect[3]\n",
    "    slide_block = scene.read_block((0, 0, svsWidth, svsHeight),size=(img_width, img_height))\n",
    "    image = cv2.cvtColor(slide_block, cv2.COLOR_BGR2RGB)\n",
    "    cv2.imwrite(os.path.splitext(train_transition_image_list[i])[0]+'_'+str(round(ratio,4))+'.tiff', image)\n",
    "    "
   ]
  },
  {
   "cell_type": "code",
   "execution_count": null,
   "metadata": {},
   "outputs": [],
   "source": [
    "for i in range(len(validation_not_transition_list)):\n",
    "    slide = slideio.open_slide(validation_not_transition_list[i], \"GDAL\")\n",
    "    num_scenes = slide.num_scenes\n",
    "    scene = slide.get_scene(0)\n",
    "    img_width,img_height,ratio=size_ratio(scene,2048)\n",
    "    svsWidth = scene.rect[2]\n",
    "    svsHeight = scene.rect[3]\n",
    "    slide_block = scene.read_block((0, 0, svsWidth, svsHeight),size=(int(img_width), int(img_height)))\n",
    "    image=cv2.cvtColor(slide_block, cv2.COLOR_BGR2RGB)\n",
    "    cv2.imwrite(os.path.splitext(validation_not_transition_image_list[i])[0]+'_'+str(round(ratio,4))+'.tiff', image)\n",
    "    \n",
    "    \n",
    "for i in range(len(validation_transition_list)):\n",
    "    slide = slideio.open_slide(validation_transition_list[i], \"GDAL\")\n",
    "    num_scenes = slide.num_scenes\n",
    "    scene = slide.get_scene(0)\n",
    "    img_width,img_height,ratio=size_ratio(scene,2048)\n",
    "    svsWidth = scene.rect[2]\n",
    "    svsHeight = scene.rect[3]\n",
    "    slide_block = scene.read_block((0, 0, svsWidth, svsHeight),size=(img_width, img_height))\n",
    "    image = cv2.cvtColor(slide_block, cv2.COLOR_BGR2RGB)\n",
    "    cv2.imwrite(os.path.splitext(validation_transition_image_list[i])[0]+'_'+str(round(ratio,4))+'.tiff', image)"
   ]
  }
 ],
 "metadata": {
  "kernelspec": {
   "display_name": "LeeYS",
   "language": "python",
   "name": "python3"
  },
  "language_info": {
   "codemirror_mode": {
    "name": "ipython",
    "version": 3
   },
   "file_extension": ".py",
   "mimetype": "text/x-python",
   "name": "python",
   "nbconvert_exporter": "python",
   "pygments_lexer": "ipython3",
   "version": "3.9.0"
  },
  "orig_nbformat": 4
 },
 "nbformat": 4,
 "nbformat_minor": 2
}
