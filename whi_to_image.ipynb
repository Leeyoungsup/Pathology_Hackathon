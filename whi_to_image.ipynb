{
 "cells": [
  {
   "cell_type": "code",
   "execution_count": 9,
   "metadata": {},
   "outputs": [],
   "source": [
    "import os\n",
    "import numpy as np \n",
    "from glob import glob\n",
    "from PIL import Image\n",
    "import cv2\n",
    "import slideio"
   ]
  },
  {
   "cell_type": "code",
   "execution_count": 10,
   "metadata": {},
   "outputs": [],
   "source": [
    "train_not_transition_list=glob('../../data/WSI/train/not_transition/*.tiff')\n",
    "train_transition_list =glob('../../data/WSI/train/transition/*.tiff')\n",
    "validation_not_transition_list=glob('../../data/WSI/validation/not_transition/*.tiff')\n",
    "validation_transition_list =glob('../../data/WSI/validation/transition/*.tiff')\n",
    "\n",
    "train_transition_image_list=[f.replace('/WSI/', '/thumbnail/') for f in train_transition_list]\n",
    "train_not_transition_image_list=[f.replace('/WSI/', '/thumbnail/') for f in train_not_transition_list]\n",
    "validation_transition_image_list=[f.replace('/WSI/', '/thumbnail/') for f in validation_transition_list]\n",
    "validation_not_transition_image_list=[f.replace('/WSI/', '/thumbnail/') for f in validation_not_transition_list]\n",
    "\n"
   ]
  },
  {
   "cell_type": "code",
   "execution_count": 11,
   "metadata": {},
   "outputs": [],
   "source": [
    "def size_ratio(scene,img_size):\n",
    "    width = scene.rect[2]\n",
    "    height = scene.rect[3]\n",
    "    ratio=0\n",
    "    inverse_ratio=0\n",
    "    img_width=0\n",
    "    img_height=0\n",
    "    if width>height:\n",
    "        ratio=img_size/width\n",
    "        inverse_ratio=width/img_size\n",
    "        img_width=img_size\n",
    "        img_height=height*ratio\n",
    "    else:\n",
    "        ratio=img_size/height\n",
    "        inverse_ratio=height/img_size\n",
    "        img_height=img_size\n",
    "        img_width=width*ratio\n",
    "        \n",
    "    return int(img_width),int(img_height),inverse_ratio"
   ]
  },
  {
   "cell_type": "code",
   "execution_count": 6,
   "metadata": {},
   "outputs": [],
   "source": [
    "\n",
    "for i in range(len(train_not_transition_list)):\n",
    "    slide = slideio.open_slide(train_not_transition_list[i], \"GDAL\")\n",
    "    num_scenes = slide.num_scenes\n",
    "    scene = slide.get_scene(0)\n",
    "    img_width,img_height,ratio=size_ratio(scene,2048)\n",
    "    svsWidth = scene.rect[2]\n",
    "    svsHeight = scene.rect[3]\n",
    "    slide_block = scene.read_block((0, 0, svsWidth, svsHeight),size=(int(img_width), int(img_height)))\n",
    "    image=cv2.cvtColor(slide_block, cv2.COLOR_BGR2RGB)\n",
    "    cv2.imwrite(os.path.splitext(train_not_transition_image_list[i])[0]+'_'+str(round(ratio,4))+'.tiff', image)\n",
    "    \n",
    "for i in range(len(train_transition_list)):\n",
    "    slide = slideio.open_slide(train_transition_list[i], \"GDAL\")\n",
    "    num_scenes = slide.num_scenes\n",
    "    scene = slide.get_scene(0)\n",
    "    img_width,img_height,ratio=size_ratio(scene,2048)\n",
    "    svsWidth = scene.rect[2]\n",
    "    svsHeight = scene.rect[3]\n",
    "    slide_block = scene.read_block((0, 0, svsWidth, svsHeight),size=(img_width, img_height))\n",
    "    image = cv2.cvtColor(slide_block, cv2.COLOR_BGR2RGB)\n",
    "    cv2.imwrite(os.path.splitext(train_transition_image_list[i])[0]+'_'+str(round(ratio,4))+'.tiff', image)\n",
    "    "
   ]
  },
  {
   "cell_type": "code",
   "execution_count": 7,
   "metadata": {},
   "outputs": [],
   "source": [
    "for i in range(len(validation_not_transition_list)):\n",
    "    slide = slideio.open_slide(validation_not_transition_list[i], \"GDAL\")\n",
    "    num_scenes = slide.num_scenes\n",
    "    scene = slide.get_scene(0)\n",
    "    img_width,img_height,ratio=size_ratio(scene,2048)\n",
    "    svsWidth = scene.rect[2]\n",
    "    svsHeight = scene.rect[3]\n",
    "    slide_block = scene.read_block((0, 0, svsWidth, svsHeight),size=(int(img_width), int(img_height)))\n",
    "    image=cv2.cvtColor(slide_block, cv2.COLOR_BGR2RGB)\n",
    "    cv2.imwrite(os.path.splitext(validation_not_transition_image_list[i])[0]+'_'+str(round(ratio,4))+'.tiff', image)\n",
    "    \n",
    "    \n",
    "for i in range(len(validation_transition_list)):\n",
    "    slide = slideio.open_slide(validation_transition_list[i], \"GDAL\")\n",
    "    num_scenes = slide.num_scenes\n",
    "    scene = slide.get_scene(0)\n",
    "    img_width,img_height,ratio=size_ratio(scene,2048)\n",
    "    svsWidth = scene.rect[2]\n",
    "    svsHeight = scene.rect[3]\n",
    "    slide_block = scene.read_block((0, 0, svsWidth, svsHeight),size=(img_width, img_height))\n",
    "    image = cv2.cvtColor(slide_block, cv2.COLOR_BGR2RGB)\n",
    "    cv2.imwrite(os.path.splitext(validation_transition_image_list[i])[0]+'_'+str(round(ratio,4))+'.tiff', image)"
   ]
  }
 ],
 "metadata": {
  "kernelspec": {
   "display_name": "LeeYS",
   "language": "python",
   "name": "python3"
  },
  "language_info": {
   "codemirror_mode": {
    "name": "ipython",
    "version": 3
   },
   "file_extension": ".py",
   "mimetype": "text/x-python",
   "name": "python",
   "nbconvert_exporter": "python",
   "pygments_lexer": "ipython3",
   "version": "3.9.0"
  },
  "orig_nbformat": 4
 },
 "nbformat": 4,
 "nbformat_minor": 2
}
