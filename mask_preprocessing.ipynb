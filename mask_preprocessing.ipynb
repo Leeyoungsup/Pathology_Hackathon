{
 "cells": [
  {
   "cell_type": "code",
   "execution_count": null,
   "metadata": {},
   "outputs": [],
   "source": [
    "import os\n",
    "import numpy as np \n",
    "from glob import glob\n",
    "from PIL import Image\n",
    "import cv2\n",
    "import matplotlib.pyplot as plt \n",
    "import slideio"
   ]
  },
  {
   "cell_type": "code",
   "execution_count": null,
   "metadata": {},
   "outputs": [],
   "source": [
    "train_not_transition_list=glob('../../data/thumbnail/train/not_transition/*.tiff')\n",
    "train_transition_list =glob('../../data/thumbnail/train/transition/*.tiff')\n",
    "validation_not_transition_list=glob('../../data/thumbnail/validation/not_transition/*.tiff')\n",
    "validation_transition_list =glob('../../data/thumbnail/validation/transition/*.tiff')\n",
    "\n",
    "train_transition_image_list=[f.replace('/thumbnail/', '/mask_thumbnail/') for f in train_transition_list]\n",
    "train_not_transition_image_list=[f.replace('/thumbnail/', '/mask_thumbnail/') for f in train_not_transition_list]\n",
    "validation_transition_image_list=[f.replace('/thumbnail/', '/mask_thumbnail/') for f in validation_transition_list]\n",
    "validation_not_transition_image_list=[f.replace('/thumbnail/', '/mask_thumbnail/') for f in validation_not_transition_list]\n"
   ]
  },
  {
   "cell_type": "code",
   "execution_count": null,
   "metadata": {},
   "outputs": [],
   "source": [
    "src_img=Image.open(train_not_transition_list[0])\n",
    "src_array_img=np.array(src_img)\n",
    "HSI_src_array_img=cv2.cvtColor(src_array_img, cv2.COLOR_RGB2HSV)\n",
    "ret, binary_array_img = cv2.threshold(HSI_src_array_img[:,:,1],127,255, cv2.THRESH_OTSU)\n",
    "k = cv2.getStructuringElement(cv2.MORPH_RECT, (21,21))\n",
    "morph_array_image= cv2.morphologyEx(binary_array_img, cv2.MORPH_CLOSE, k)\n",
    "\n",
    "dst_image=np.zeros((morph_array_image.shape[0],morph_array_image.shape[1],3))\n",
    "zero_point=np.where(morph_array_image==0)\n",
    "dst_image[zero_point]=(255,255,255)\n",
    "dst_image=np.where(dst_image==(0,0,0),src_array_img,(255,255,255))\n",
    "fig = plt.figure(figsize=(30,20))\n",
    "rows = 2\n",
    "cols = 3\n",
    "ax1 = fig.add_subplot(rows, cols, 1)\n",
    "ax1.imshow(src_array_img)\n",
    "ax1.set_title('src')\n",
    " \n",
    "ax2 = fig.add_subplot(rows, cols, 2)\n",
    "ax2.imshow(HSI_src_array_img[:,:,1],'gray')\n",
    "ax2.set_title('S level among HSI levels')\n",
    "\n",
    "ax2 = fig.add_subplot(rows, cols, 3)\n",
    "ax2.imshow(binary_array_img,'gray')\n",
    "ax2.set_title('raw mask')\n",
    "\n",
    "ax2 = fig.add_subplot(rows, cols, 4)\n",
    "ax2.imshow(morph_array_image,'gray')\n",
    "ax2.set_title('morph21_close_mask')\n",
    "\n",
    "ax2 = fig.add_subplot(rows, cols, 5)\n",
    "ax2.imshow(dst_image)\n",
    "ax2.set_title('dst_image')\n"
   ]
  },
  {
   "cell_type": "code",
   "execution_count": null,
   "metadata": {},
   "outputs": [],
   "source": [
    "for i in range(len(train_not_transition_list)):\n",
    "    src_img=Image.open(train_not_transition_list[i])\n",
    "    src_array_img=np.array(src_img)\n",
    "    HSI_src_array_img=cv2.cvtColor(src_array_img, cv2.COLOR_RGB2HSV)\n",
    "    ret, binary_array_img = cv2.threshold(HSI_src_array_img[:,:,1],127,255, cv2.THRESH_OTSU)\n",
    "    k = cv2.getStructuringElement(cv2.MORPH_RECT, (21,21))\n",
    "    morph_array_image= cv2.morphologyEx(binary_array_img, cv2.MORPH_CLOSE, k)\n",
    "    cv2.imwrite(train_not_transition_image_list[i],morph_array_image)\n",
    "    \n",
    "for i in range(len(train_transition_list)):\n",
    "    src_img=Image.open(train_not_transition_list[i])\n",
    "    src_array_img=np.array(src_img)\n",
    "    HSI_src_array_img=cv2.cvtColor(src_array_img, cv2.COLOR_RGB2HSV)\n",
    "    ret, binary_array_img = cv2.threshold(HSI_src_array_img[:,:,1],127,255, cv2.THRESH_OTSU)\n",
    "    k = cv2.getStructuringElement(cv2.MORPH_RECT, (21,21))\n",
    "    morph_array_image= cv2.morphologyEx(binary_array_img, cv2.MORPH_CLOSE, k)\n",
    "    cv2.imwrite(train_not_transition_image_list[i],morph_array_image)\n",
    "    "
   ]
  },
  {
   "cell_type": "code",
   "execution_count": null,
   "metadata": {},
   "outputs": [],
   "source": [
    "for i in range(len(validation_not_transition_list)):\n",
    "    src_img=Image.open(validation_not_transition_list[i])\n",
    "    src_array_img=np.array(src_img)\n",
    "    HSI_src_array_img=cv2.cvtColor(src_array_img, cv2.COLOR_RGB2HSV)\n",
    "    ret, binary_array_img = cv2.threshold(HSI_src_array_img[:,:,1],127,255, cv2.THRESH_OTSU)\n",
    "    k = cv2.getStructuringElement(cv2.MORPH_RECT, (21,21))\n",
    "    morph_array_image= cv2.morphologyEx(binary_array_img, cv2.MORPH_CLOSE, k)\n",
    "    cv2.imwrite(validation_not_transition_image_list[i],morph_array_image)\n",
    "    \n",
    "for i in range(len(validation_transition_list)):\n",
    "    src_img=Image.open(validation_not_transition_list[i])\n",
    "    src_array_img=np.array(src_img)\n",
    "    HSI_src_array_img=cv2.cvtColor(src_array_img, cv2.COLOR_RGB2HSV)\n",
    "    ret, binary_array_img = cv2.threshold(HSI_src_array_img[:,:,1],127,255, cv2.THRESH_OTSU)\n",
    "    k = cv2.getStructuringElement(cv2.MORPH_RECT, (21,21))\n",
    "    morph_array_image= cv2.morphologyEx(binary_array_img, cv2.MORPH_CLOSE, k)\n",
    "    cv2.imwrite(validation_not_transition_image_list[i],morph_array_image)\n",
    "    "
   ]
  }
 ],
 "metadata": {
  "kernelspec": {
   "display_name": "LeeYS",
   "language": "python",
   "name": "python3"
  },
  "language_info": {
   "codemirror_mode": {
    "name": "ipython",
    "version": 3
   },
   "file_extension": ".py",
   "mimetype": "text/x-python",
   "name": "python",
   "nbconvert_exporter": "python",
   "pygments_lexer": "ipython3",
   "version": "3.9.0"
  },
  "orig_nbformat": 4
 },
 "nbformat": 4,
 "nbformat_minor": 2
}
